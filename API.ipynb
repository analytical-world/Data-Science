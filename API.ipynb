{
 "cells": [
  {
   "cell_type": "raw",
   "id": "01934e80-2402-4c63-88cc-79f987fa81fa",
   "metadata": {},
   "source": [
    "Q1. What is an API? Give an example, where an API is used in real life."
   ]
  },
  {
   "cell_type": "raw",
   "id": "120af0b8-03dc-4a2e-a52f-1049c1ce31a6",
   "metadata": {},
   "source": [
    "SOl: API stands for application programming interface — it is  way for two or more computer programs to communicate with each other. It is a type of software interface, offering a service to other pieces of software.\n",
    "\n",
    "Examples:\n",
    "Zomato app uses google maps api services for tracking of ist order.\n",
    "when we pay mmoney using google pay it interact with bank servers which uses code written in other language. API builds connection between them. \n"
   ]
  },
  {
   "cell_type": "raw",
   "id": "c55d3afa-4fcf-47b2-86ae-9ca7159ee7b2",
   "metadata": {},
   "source": [
    "Q2: Q2. Give advantages and disadvantages of using API."
   ]
  },
  {
   "cell_type": "raw",
   "id": "83d200fa-6419-4a95-b7c5-42f13360126c",
   "metadata": {},
   "source": [
    "SOl: Advantages :\n",
    " 1. Increased Interoperability: \n",
    " API solutions enable different software systems to communicate with each other, regardless of their programming language or platform.\n",
    " \n",
    " 2. Improved Efficiency: \n",
    " API driven infrastructures enable developers to reuse code and functionality from existing software systems, saving time and reducing the amount of code that needs to be written from scratch.\n",
    "  \n",
    " 3. Better User Experience:\n",
    "  APIs can enable third-party developers to create applications that integrate with existing software systems, providing a better user experience and increased functionality.\n",
    "  \n",
    " 4. Increased Flexibility:\n",
    "  APIs provide developers with greater flexibility, enabling them to choose the best programming languages and frameworks for their needs.\n",
    "  \n",
    " \n",
    " \n",
    " "
   ]
  },
  {
   "cell_type": "raw",
   "id": "c66c0df1-693a-4488-b1e9-7d4928d11ccf",
   "metadata": {},
   "source": [
    "Q3: What is a Web API? Differentiate between API and Web API."
   ]
  },
  {
   "cell_type": "raw",
   "id": "ac2e317d-7f4b-418d-b966-c6b7a09b92bf",
   "metadata": {},
   "source": [
    "sol: Web api is subset of API which is actually some kind of interface which is having a set of functions. So web api can be accessed over the web using the HTTP protocol.\n",
    "Web API receives requests from different types of client devices like mobile, laptop, etc."
   ]
  },
  {
   "cell_type": "raw",
   "id": "1a4cb3a3-99d5-4a14-b27c-ea25a98d8ef9",
   "metadata": {},
   "source": [
    "Q4: Q4. Explain REST and SOAP Architecture. Mention shortcomings of SOAP."
   ]
  },
  {
   "cell_type": "raw",
   "id": "72cb1923-6656-4185-a224-3e2569c8198c",
   "metadata": {},
   "source": [
    "sol: REST is based on HTTP protocol and uses simple request  and responses to transfer data. Rest services uses URLs and HTTP methods to provide access to data resources to client.\n",
    "\n",
    "SOAP is more complex ad heavyweight architecture  that uses XML based messaging to comminucate between client and server."
   ]
  },
  {
   "cell_type": "raw",
   "id": "d9723bc0-cf3b-437b-bc8c-a3a3d6ee8782",
   "metadata": {},
   "source": [
    "Q5. Differentiate between REST and SOAP."
   ]
  },
  {
   "cell_type": "raw",
   "id": "9316d198-ac38-45ef-ab27-e4acc2e89384",
   "metadata": {},
   "source": [
    "SOl: Rest stand for Representaional state Transfer and is lightweight and uses simple URL pattern for data exchage while SOAP stands for Simple object access protocol which is heavier and uses XML messaging format for data exchange."
   ]
  }
 ],
 "metadata": {
  "kernelspec": {
   "display_name": "Python 3 (ipykernel)",
   "language": "python",
   "name": "python3"
  },
  "language_info": {
   "codemirror_mode": {
    "name": "ipython",
    "version": 3
   },
   "file_extension": ".py",
   "mimetype": "text/x-python",
   "name": "python",
   "nbconvert_exporter": "python",
   "pygments_lexer": "ipython3",
   "version": "3.10.8"
  }
 },
 "nbformat": 4,
 "nbformat_minor": 5
}
