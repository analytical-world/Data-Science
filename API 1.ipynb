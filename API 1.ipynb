{
 "cells": [
  {
   "cell_type": "markdown",
   "id": "e515a1ed-54d3-4742-9b13-e5537d00c464",
   "metadata": {},
   "source": [
    "Q1. What is an API? Give an example, where an API is used in real life."
   ]
  },
  {
   "cell_type": "markdown",
   "id": "c5fff5ce-e041-45b9-a65b-490218909452",
   "metadata": {},
   "source": [
    "SOl: API stands for application programming interface — it is  way for two or more computer programs to communicate with each other. It is a type of software interface, offering a service to other pieces of software.\n",
    "\n",
    "Examples:\n",
    "Zomato app uses google maps api services for tracking of ist order.\n",
    "when we pay mmoney using google pay it interact with bank servers which uses code written in other language. API builds connection between them. \n"
   ]
  },
  {
   "cell_type": "markdown",
   "id": "b36ee3fc-ce39-4bbb-8e01-53c20b87c0a6",
   "metadata": {},
   "source": [
    "Q2: Q2. Give advantages and disadvantages of using API."
   ]
  },
  {
   "cell_type": "markdown",
   "id": "6c40d85a-3865-48f2-93d1-c52514935b0f",
   "metadata": {},
   "source": [
    "SOl: Advantages :\n",
    " 1. Increased Interoperability: \n",
    " API solutions enable different software systems to communicate with each other, regardless of their programming language or platform.\n",
    " \n",
    " 2. Improved Efficiency: \n",
    " API driven infrastructures enable developers to reuse code and functionality from existing software systems, saving time and reducing the amount of code that needs to be written from scratch.\n",
    "  \n",
    " 3. Better User Experience:\n",
    "  APIs can enable third-party developers to create applications that integrate with existing software systems, providing a better user experience and increased functionality.\n",
    "  \n",
    " 4. Increased Flexibility:\n",
    "  APIs provide developers with greater flexibility, enabling them to choose the best programming languages and frameworks for their needs.\n",
    "  \n",
    " \n",
    " \n",
    " "
   ]
  },
  {
   "cell_type": "markdown",
   "id": "5dfcc4f2-7048-4a29-9697-7c5c3d5a0fa3",
   "metadata": {},
   "source": [
    "Q3: What is a Web API? Differentiate between API and Web API."
   ]
  },
  {
   "cell_type": "markdown",
   "id": "28eb66ed-b25f-4ffd-b780-b300ae036dab",
   "metadata": {},
   "source": [
    "sol: Web api is subset of API which is actually some kind of interface which is having a set of functions. So web api can be accessed over the web using the HTTP protocol.\n",
    "Web API receives requests from different types of client devices like mobile, laptop, etc."
   ]
  },
  {
   "cell_type": "markdown",
   "id": "1ed0ce08-e8c7-472f-ad7e-7b2f7c9c9801",
   "metadata": {},
   "source": [
    "Q4: Q4. Explain REST and SOAP Architecture. Mention shortcomings of SOAP."
   ]
  },
  {
   "cell_type": "markdown",
   "id": "5e7200a6-9cd2-48ea-bbe9-a99ef127ccaa",
   "metadata": {},
   "source": [
    "sol: REST is based on HTTP protocol and uses simple request  and responses to transfer data. Rest services uses URLs and HTTP methods to provide access to data resources to client.\n",
    "\n",
    "SOAP is more complex ad heavyweight architecture  that uses XML based messaging to comminucate between client and server."
   ]
  },
  {
   "cell_type": "markdown",
   "id": "7fe4ab6e-6c54-449e-be00-b6dc4bb2d10b",
   "metadata": {},
   "source": [
    "Q5. Differentiate between REST and SOAP."
   ]
  },
  {
   "cell_type": "markdown",
   "id": "d9385c7c-672f-445b-9b10-20df1c30fd90",
   "metadata": {},
   "source": [
    "SOl: Rest stand for Representaional state Transfer and is lightweight and uses simple URL pattern for data exchage while SOAP stands for Simple object access protocol which is heavier and uses XML messaging format for data exchange."
   ]
  }
 ],
 "metadata": {
  "kernelspec": {
   "display_name": "Python 3 (ipykernel)",
   "language": "python",
   "name": "python3"
  },
  "language_info": {
   "codemirror_mode": {
    "name": "ipython",
    "version": 3
   },
   "file_extension": ".py",
   "mimetype": "text/x-python",
   "name": "python",
   "nbconvert_exporter": "python",
   "pygments_lexer": "ipython3",
   "version": "3.10.8"
  }
 },
 "nbformat": 4,
 "nbformat_minor": 5
}
